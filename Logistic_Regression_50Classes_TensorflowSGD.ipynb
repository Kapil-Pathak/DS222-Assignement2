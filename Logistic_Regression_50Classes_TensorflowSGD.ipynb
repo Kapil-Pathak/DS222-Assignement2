{
 "cells": [
  {
   "cell_type": "code",
   "execution_count": 1,
   "metadata": {},
   "outputs": [
    {
     "name": "stderr",
     "output_type": "stream",
     "text": [
      "/home/kapil/anaconda3/lib/python3.6/site-packages/h5py/__init__.py:36: FutureWarning: Conversion of the second argument of issubdtype from `float` to `np.floating` is deprecated. In future, it will be treated as `np.float64 == np.dtype(float).type`.\n",
      "  from ._conv import register_converters as _register_converters\n"
     ]
    }
   ],
   "source": [
    "import tensorflow as tf\n",
    "import numpy as np\n",
    "import matplotlib.pyplot as plt\n",
    "import seaborn as sns\n",
    "sns.set_style(\"darkgrid\")\n",
    "import pickle\n",
    "import os"
   ]
  },
  {
   "cell_type": "code",
   "execution_count": 2,
   "metadata": {},
   "outputs": [],
   "source": [
    "def logistic_regression(X, y,n_classes,initializer=None,seed=42,learning_rate=0.01):\n",
    "    n_inputs_including_bias = int(X.shape[1])\n",
    "    if initializer is None:\n",
    "        initializer = tf.random_uniform([n_inputs_including_bias, n_classes], -1.0, 1.0, seed=seed)\n",
    "    theta = tf.Variable(initializer, name=\"theta\")\n",
    "    logits = tf.matmul(X, theta, name=\"logits\")\n",
    "    loss = tf.reduce_mean(tf.nn.softmax_cross_entropy_with_logits(labels=y, logits=logits)+beta*tf.nn.l2_loss(theta))             \n",
    "    global_step = tf.Variable(0, trainable=False)\n",
    "    starter_learning_rate = 0.1\n",
    "    learning_rate = tf.train.exponential_decay(starter_learning_rate, global_step,100000, 100.4, staircase=True)\n",
    "\n",
    "# Passing global_step to minimize() will increment it at each step.\n",
    "    training_op = (tf.train.GradientDescentOptimizer(learning_rate).minimize(loss, global_step=global_step))\n",
    "    #optimizer = tf.train.GradientDescentOptimizer(learning_rate=learning_rate)\n",
    "    #training_op = optimizer.minimize(loss)\n",
    "    loss_summary = tf.summary.scalar('Cross-Entropy_Loss', loss)\n",
    "    init = tf.global_variables_initializer()\n",
    "    saver = tf.train.Saver()\n",
    "    return loss, training_op, loss_summary, init, saver"
   ]
  },
  {
   "cell_type": "code",
   "execution_count": 3,
   "metadata": {},
   "outputs": [],
   "source": [
    "from datetime import datetime\n",
    "\n",
    "def log_dir(prefix=\"\"):\n",
    "    now = datetime.utcnow().strftime(\"%Y%m%d%H%M%S\")\n",
    "    root_logdir = \"tf_logs\"\n",
    "    if prefix:\n",
    "        prefix += \"-\"\n",
    "    name = prefix + \"run-\" + now\n",
    "    return \"{}/{}/\".format(root_logdir, name)"
   ]
  },
  {
   "cell_type": "code",
   "execution_count": 4,
   "metadata": {},
   "outputs": [],
   "source": [
    "def random_batch(X_train, y_train, batch_size):\n",
    "    rnd_indices = np.random.randint(0, len(X_train), batch_size)\n",
    "    X_batch = X_train[rnd_indices]\n",
    "    y_batch = y_train[rnd_indices]\n",
    "    return X_batch, y_batch"
   ]
  },
  {
   "cell_type": "code",
   "execution_count": 5,
   "metadata": {},
   "outputs": [],
   "source": [
    "def add_biastomatrix(*args):\n",
    "    matrices=[]\n",
    "    for X in args:\n",
    "        m=X.shape[0]\n",
    "        X=np.c_[np.ones((m,1)),X]\n",
    "        matrices.append(X)\n",
    "    return tuple(matrices)"
   ]
  },
  {
   "cell_type": "code",
   "execution_count": 7,
   "metadata": {},
   "outputs": [],
   "source": [
    "(X_train,X_test,X_devel)=add_biastomatrix(X_train,X_test,X_devel)"
   ]
  },
  {
   "cell_type": "code",
   "execution_count": 6,
   "metadata": {},
   "outputs": [],
   "source": [
    "X_train=np.load(\"X_train.npy\")\n",
    "y_train=np.load(\"y_train.npy\")\n",
    "X_test=np.load(\"X_test.npy\")\n",
    "y_test=np.load(\"y_test.npy\")\n",
    "X_devel=np.load(\"X_devel.npy\")\n",
    "y_devel=np.load(\"y_devel.npy\")"
   ]
  },
  {
   "cell_type": "code",
   "execution_count": 8,
   "metadata": {},
   "outputs": [
    {
     "name": "stdout",
     "output_type": "stream",
     "text": [
      "WARNING:tensorflow:From <ipython-input-2-caa0589b68d9>:7: softmax_cross_entropy_with_logits (from tensorflow.python.ops.nn_ops) is deprecated and will be removed in a future version.\n",
      "Instructions for updating:\n",
      "\n",
      "Future major versions of TensorFlow will allow gradients to flow\n",
      "into the labels input on backprop by default.\n",
      "\n",
      "See `tf.nn.softmax_cross_entropy_with_logits_v2`.\n",
      "\n"
     ]
    }
   ],
   "source": [
    "beta=0.001\n",
    "n_inputs = 100\n",
    "logdir = log_dir(\"logreg\")\n",
    "n_classes=y_train.shape[1]\n",
    "X = tf.placeholder(tf.float32, shape=(None, n_inputs + 1), name=\"X\")\n",
    "y = tf.placeholder(tf.float32, shape=(None, n_classes), name=\"y\")\n",
    "loss, training_op, loss_summary, init, saver = logistic_regression(X, y,n_classes)\n",
    "train_writer = tf.summary.FileWriter(logdir+\"/train\", tf.get_default_graph())\n",
    "test_writer=tf.summary.FileWriter(logdir+\"/test\")\n",
    "devel_writer=tf.summary.FileWriter(logdir+\"/devel\")\n",
    "merged=tf.summary.merge_all()"
   ]
  },
  {
   "cell_type": "code",
   "execution_count": 9,
   "metadata": {},
   "outputs": [
    {
     "name": "stdout",
     "output_type": "stream",
     "text": [
      "Epoch: 0 \tTest Loss: 10.689052 \t Devel Loss: 10.684053 \tTrain Loss: 6.6586504\n",
      "Epoch: 50 \tTest Loss: 2.7236621 \t Devel Loss: 2.7239232 \tTrain Loss: 1.8424258\n",
      "Epoch: 100 \tTest Loss: 2.4849305 \t Devel Loss: 2.484696 \tTrain Loss: 1.7839105\n",
      "Epoch: 150 \tTest Loss: 2.462273 \t Devel Loss: 2.4607477 \tTrain Loss: 1.7780098\n",
      "Epoch: 200 \tTest Loss: 2.4443004 \t Devel Loss: 2.442893 \tTrain Loss: 1.7743899\n",
      "Epoch: 250 \tTest Loss: 2.453409 \t Devel Loss: 2.4537694 \tTrain Loss: 1.7758437\n",
      "Epoch: 300 \tTest Loss: 2.45224 \t Devel Loss: 2.4521554 \tTrain Loss: 1.7773219\n",
      "Epoch: 350 \tTest Loss: 2.44785 \t Devel Loss: 2.4478953 \tTrain Loss: 1.7754743\n",
      "Epoch: 400 \tTest Loss: 2.4288855 \t Devel Loss: 2.4264605 \tTrain Loss: 1.7766693\n",
      "Epoch: 450 \tTest Loss: 2.448495 \t Devel Loss: 2.4480827 \tTrain Loss: 1.7744725\n",
      "Epoch: 500 \tTest Loss: 2.4463577 \t Devel Loss: 2.4449086 \tTrain Loss: 1.7751057\n",
      "Epoch: 550 \tTest Loss: 2.4409719 \t Devel Loss: 2.4402215 \tTrain Loss: 1.7741535\n",
      "Epoch: 600 \tTest Loss: 2.4295514 \t Devel Loss: 2.428784 \tTrain Loss: 1.7783723\n",
      "Epoch: 650 \tTest Loss: 2.442466 \t Devel Loss: 2.4420147 \tTrain Loss: 1.7751299\n",
      "Epoch: 700 \tTest Loss: 12.369878 \t Devel Loss: 12.415908 \tTrain Loss: 14.61911\n",
      "Epoch: 750 \tTest Loss: 10.337969 \t Devel Loss: 10.38999 \tTrain Loss: 10.032579\n",
      "Epoch: 800 \tTest Loss: 10.449984 \t Devel Loss: 10.509633 \tTrain Loss: 9.347687\n",
      "Epoch: 850 \tTest Loss: 12.544596 \t Devel Loss: 12.611606 \tTrain Loss: 13.06375\n",
      "Epoch: 900 \tTest Loss: 13.047549 \t Devel Loss: 13.048224 \tTrain Loss: 13.611038\n",
      "Epoch: 950 \tTest Loss: 9.403487 \t Devel Loss: 9.367932 \tTrain Loss: 8.892437\n"
     ]
    }
   ],
   "source": [
    "m=X_train.shape[0]\n",
    "n_epochs = 1000\n",
    "batch_size = 100\n",
    "n_batches = int(np.ceil(m / batch_size))\n",
    "checkpoint_path = \"/tmp/logistic_regressionl2.ckpt\"\n",
    "checkpoint_epoch_path = checkpoint_path + \".epoch\"\n",
    "final_model_path = \"./my_logreg_model\"\n",
    "\n",
    "with tf.Session() as sess:\n",
    "    if os.path.isfile(checkpoint_epoch_path):\n",
    "        # if the checkpoint file exists, restore the model and load the epoch number\n",
    "        with open(checkpoint_epoch_path, \"rb\") as f:\n",
    "            start_epoch = int(f.read())\n",
    "        print(\"Training was interrupted. Continuing at epoch\", start_epoch)\n",
    "        saver.restore(sess, checkpoint_path)\n",
    "    else:\n",
    "        start_epoch = 0\n",
    "        sess.run(init)\n",
    "    \n",
    "    for epoch in range(start_epoch, n_epochs):\n",
    "        for batch_index in range(n_batches):\n",
    "            X_batch, y_batch = random_batch(X_train, y_train, batch_size)\n",
    "            sess.run(training_op, feed_dict={X: X_batch, y: y_batch})\n",
    "        test_loss,summary_test = sess.run([loss,merged], feed_dict={X: X_test, y: y_test})\n",
    "        test_writer.add_summary(summary_test, epoch)\n",
    "        devel_loss,summary_devel=sess.run([loss,merged],feed_dict={X:X_devel,y:y_test})\n",
    "        devel_writer.add_summary(summary_devel,epoch)\n",
    "        if epoch % 50 == 0:\n",
    "            train_loss,summary_train=sess.run([loss,merged],feed_dict={X:X_train,y:y_train})\n",
    "            train_writer.add_summary(summary_train,epoch)\n",
    "            print(\"Epoch:\", epoch, \"\\tTest Loss:\", test_loss,\"\\t Devel Loss:\",\n",
    "                  devel_loss,\"\\tTrain Loss:\",train_loss)\n",
    "            saver.save(sess, checkpoint_path)\n",
    "            with open(checkpoint_epoch_path, \"wb\") as f:\n",
    "                f.write(b\"%d\" % (epoch + 1))\n",
    "\n",
    "    saver.save(sess, final_model_path)\n",
    "    os.remove(checkpoint_epoch_path)"
   ]
  }
 ],
 "metadata": {
  "kernelspec": {
   "display_name": "Python 3",
   "language": "python",
   "name": "python3"
  },
  "language_info": {
   "codemirror_mode": {
    "name": "ipython",
    "version": 3
   },
   "file_extension": ".py",
   "mimetype": "text/x-python",
   "name": "python",
   "nbconvert_exporter": "python",
   "pygments_lexer": "ipython3",
   "version": "3.6.4"
  }
 },
 "nbformat": 4,
 "nbformat_minor": 2
}
