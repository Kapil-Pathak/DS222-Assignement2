{
 "cells": [
  {
   "cell_type": "code",
   "execution_count": 1,
   "metadata": {},
   "outputs": [
    {
     "name": "stderr",
     "output_type": "stream",
     "text": [
      "/home/kapil/anaconda3/lib/python3.6/site-packages/h5py/__init__.py:36: FutureWarning: Conversion of the second argument of issubdtype from `float` to `np.floating` is deprecated. In future, it will be treated as `np.float64 == np.dtype(float).type`.\n",
      "  from ._conv import register_converters as _register_converters\n"
     ]
    }
   ],
   "source": [
    "import tensorflow as tf\n",
    "import re\n",
    "from nltk.corpus import stopwords\n",
    "import nltk\n",
    "stop_words = stopwords.words('english')\n",
    "from collections import defaultdict\n",
    "import time\n",
    "from nltk.stem.porter import PorterStemmer\n",
    "porter_stemmer = PorterStemmer()\n",
    "from numpy.linalg import norm"
   ]
  },
  {
   "cell_type": "code",
   "execution_count": 2,
   "metadata": {},
   "outputs": [],
   "source": [
    "def text_processing(line):\n",
    "    s=re.sub(r'<.+?>', '', line)\n",
    "    s =re.sub(\"\\d+\", \"\", s)\n",
    "    s=s.replace('@en .', '')\n",
    "    s= re.sub(r'[\\(\\)\\\"\\:\\.\\$\\&\\'\\#\\%\\[\\]\\+\\!\\?\\-\\\\]','',s)\n",
    "    s=s.replace('\\n','')\n",
    "    s=s.replace(';','')\n",
    "    s=re.sub(r\"\\b[a-zA-Z]\\b\", \"\", s)\n",
    "    s=s.replace('u\\2014',' ')\n",
    "    s=re.sub(r'\\([^)]*\\)', '', s)\n",
    "    return s"
   ]
  },
  {
   "cell_type": "code",
   "execution_count": 3,
   "metadata": {},
   "outputs": [
    {
     "ename": "NameError",
     "evalue": "name 'lines' is not defined",
     "output_type": "error",
     "traceback": [
      "\u001b[0;31m---------------------------------------------------------------------------\u001b[0m",
      "\u001b[0;31mNameError\u001b[0m                                 Traceback (most recent call last)",
      "\u001b[0;32m<ipython-input-3-de92fb177a0d>\u001b[0m in \u001b[0;36m<module>\u001b[0;34m()\u001b[0m\n\u001b[1;32m      2\u001b[0m \u001b[0;34m\u001b[0m\u001b[0m\n\u001b[1;32m      3\u001b[0m \u001b[0mWords\u001b[0m\u001b[0;34m=\u001b[0m\u001b[0;34m[\u001b[0m\u001b[0;34m]\u001b[0m\u001b[0;34m\u001b[0m\u001b[0m\n\u001b[0;32m----> 4\u001b[0;31m \u001b[0;32mfor\u001b[0m \u001b[0mline\u001b[0m \u001b[0;32min\u001b[0m \u001b[0mlines\u001b[0m\u001b[0;34m:\u001b[0m\u001b[0;34m\u001b[0m\u001b[0m\n\u001b[0m\u001b[1;32m      5\u001b[0m     \u001b[0mList1\u001b[0m\u001b[0;34m=\u001b[0m\u001b[0;34m[\u001b[0m\u001b[0;34m]\u001b[0m\u001b[0;34m\u001b[0m\u001b[0m\n\u001b[1;32m      6\u001b[0m     \u001b[0mline\u001b[0m\u001b[0;34m=\u001b[0m\u001b[0mtext_processing\u001b[0m\u001b[0;34m(\u001b[0m\u001b[0mline\u001b[0m\u001b[0;34m)\u001b[0m\u001b[0;34m\u001b[0m\u001b[0m\n",
      "\u001b[0;31mNameError\u001b[0m: name 'lines' is not defined"
     ]
    }
   ],
   "source": [
    "from gensim.models import Word2Vec\n",
    "\n",
    "Words=[]\n",
    "for line in lines:\n",
    "    List1=[]\n",
    "    line=text_processing(line)\n",
    "    line=line.lower()\n",
    "    for word in line.split('\\t')[1].split():  \n",
    "        word=re.sub(r\"[^a-zA-Z]\",\"\",word)\n",
    "        if word not in stop_words:\n",
    "            List1.append(porter_stemmer.stem(word.rstrip()))\n",
    "    Words.append(List1)\n"
   ]
  },
  {
   "cell_type": "code",
   "execution_count": null,
   "metadata": {},
   "outputs": [],
   "source": [
    "model = Word2Vec(Words)"
   ]
  },
  {
   "cell_type": "code",
   "execution_count": null,
   "metadata": {},
   "outputs": [],
   "source": [
    "model.save(\"word2vec.model\")"
   ]
  },
  {
   "cell_type": "code",
   "execution_count": 4,
   "metadata": {},
   "outputs": [],
   "source": [
    "f=open('/home/kapil/Documents/IISc_sem/Machine_Learning_Large_Datasets/Assignment2/DBPedia.full/full_train.txt','r')\n",
    "lines=f.readlines()"
   ]
  },
  {
   "cell_type": "code",
   "execution_count": 5,
   "metadata": {},
   "outputs": [],
   "source": [
    "Titles=set()\n",
    "total_ex=0\n",
    "ex=0\n",
    "for line in lines:\n",
    "    line=line.lower()\n",
    "    line=text_processing(line)\n",
    "    for title in line.split('\\t')[0].split(','):\n",
    "        Titles.add(title.rstrip())\n",
    "        total_ex+=1\n",
    "    ex+=1"
   ]
  },
  {
   "cell_type": "code",
   "execution_count": 6,
   "metadata": {},
   "outputs": [
    {
     "name": "stdout",
     "output_type": "stream",
     "text": [
      "298176\n",
      "214997\n"
     ]
    }
   ],
   "source": [
    "import numpy as np\n",
    "print(total_ex)\n",
    "print(ex)"
   ]
  },
  {
   "cell_type": "code",
   "execution_count": 7,
   "metadata": {},
   "outputs": [],
   "source": [
    "b = dict(enumerate(Titles))\n",
    "inv_map = {v: k for k, v in b.items()}        "
   ]
  },
  {
   "cell_type": "code",
   "execution_count": null,
   "metadata": {},
   "outputs": [],
   "source": [
    "W=np.random.randn(100, 50)\n",
    "Y=np.zeros((total_ex,50))\n",
    "embedding=np.zeros((ex,100))\n",
    "f=open('/home/kapil/Documents/IISc_sem/Machine_Learning_Large_Datasets/Assignment2/DBPedia.full/full_train.txt','r')\n",
    "lines=f.readlines()\n",
    "from progressbar import ProgressBar\n",
    "pbar = ProgressBar()\n",
    "start_time = time.time()\n",
    "n=0\n",
    "doc_count=0\n",
    "for line in pbar(lines):\n",
    "    Doc_rep=0\n",
    "    count=0\n",
    "    try:  \n",
    "        line=text_processing(line).lower()\n",
    "        for word in line.split('\\t')[1].split():\n",
    "            word=re.sub(r\"[^a-zA-Z]\",\"\",word)\n",
    "            if word not in stop_words:\n",
    "                try:\n",
    "                    Doc_rep+=model[porter_stemmer.stem(word.rstrip())]\n",
    "                except KeyError:\n",
    "                    continue\n",
    "            count+=1\n",
    "        emb=Doc_rep/count\n",
    "        embedding[doc_count,0:100]=emb\n",
    "        doc_count+=1\n",
    "    except ZeroDivisionError:\n",
    "        doc_count+=1\n",
    "        continue\n",
    "print(\"--- %s seconds ---\" % (time.time() - start_time))"
   ]
  },
  {
   "cell_type": "code",
   "execution_count": null,
   "metadata": {},
   "outputs": [],
   "source": [
    "from tempfile import TemporaryFile\n",
    "outfile = TemporaryFile()\n",
    "np.save(outfile, embedding)"
   ]
  },
  {
   "cell_type": "code",
   "execution_count": 8,
   "metadata": {},
   "outputs": [],
   "source": [
    "import math\n",
    "\n",
    "def sigmoid(x):\n",
    "      return 1 / (1 + math.exp(-x))"
   ]
  },
  {
   "cell_type": "code",
   "execution_count": 9,
   "metadata": {},
   "outputs": [],
   "source": [
    "import gensim\n",
    "from gensim.models.doc2vec import Doc2Vec, TaggedDocument\n",
    "model = Doc2Vec.load('my_doc2vec_model')"
   ]
  },
  {
   "cell_type": "code",
   "execution_count": null,
   "metadata": {},
   "outputs": [],
   "source": [
    "def Cost_compute(mue,lmda,lines2,W):\n",
    "    n=0\n",
    "    Y=np.zeros((total_ex,50))\n",
    " ##   mue=0.0001\n",
    " ##   lmda=0.1\n",
    "    l_c=0\n",
    "    cost=np.zeros((50,1))\n",
    "    update=np.zeros((50,100))\n",
    "    phi=0\n",
    "    p=0\n",
    "    i=0\n",
    "    start_time = time.time()\n",
    "    for line1 in lines2:\n",
    "\n",
    "        for title in line1.split('\\t')[0].split(','):\n",
    "            i=inv_map[text_processing(title).lower().rstrip()]\n",
    "            phi=np.dot(W[i,:],embedding[l_c])\n",
    "            p=sigmoid(phi)\n",
    "            for k in range(50):\n",
    "                if k==i:\n",
    "                    cost[k]=cost[k]-np.log(p)+0.5*lmda*(norm(W[k,:]))\n",
    "                    update[k,:]=update[k,:]+mue*(1-np.log(p))*embedding[l_c]\n",
    "                else:\n",
    "                    cost[k]=cost[k]-np.log(1-p)+0.5*lmda*(norm(W[k,:]))\n",
    "                    update[k,:]=update[k,:]+mue*(-np.log(p))*embedding[l_c]\n",
    "            \n",
    "        l_c+=1\n",
    "    print(\"--- %s seconds ---\" % (time.time() - start_time))\n",
    "    update=update/total_ex\n",
    "    return cost,update"
   ]
  },
  {
   "cell_type": "code",
   "execution_count": null,
   "metadata": {},
   "outputs": [],
   "source": [
    "num_epoch=5\n",
    "W=np.random.uniform(low=-0.01, high=0.01, size=(50,100))\n",
    "pbar1 = ProgressBar()\n",
    "f=open('/home/kapil/Documents/IISc_sem/Machine_Learning_Large_Datasets/Assignment2/DBPedia.full/full_train.txt','r')\n",
    "lines=f.readlines()\n",
    "Loss=np.zeros((5,50))\n",
    "for epoch in pbar1(range(num_epoch)):\n",
    "    mue=0.0001\n",
    "    lmda=0.1    \n",
    "    cost,update=Cost_compute(mue,lmda,lines,W)\n",
    "    for col in range(50):\n",
    "        W[col,:]=W[col,:]*(1-mue*lmda)-mue*update[col,:]\n",
    "        Loss[epoch,col]=cost[col]\n",
    "    print(\"epoch %s\" %(epoch))"
   ]
  },
  {
   "cell_type": "code",
   "execution_count": null,
   "metadata": {},
   "outputs": [],
   "source": [
    "f=open('/home/kapil/Documents/IISc_sem/Machine_Learning_Large_Datasets/Assignment2/DBPedia.full/full_train.txt','r')\n",
    "lines=f.readlines()\n",
    "n=0\n",
    "Y=np.zeros((total_ex,50))\n",
    " ##   mue=0.0001\n",
    " ##   lmda=0.1\n",
    "Loss=np.zeros((epoch,50))\n",
    "l_c=0\n",
    "cost=np.zeros((50,1))\n",
    "update=np.zeros((100,50))\n",
    "phi=0\n",
    "p=0\n",
    "i=0\n",
    "lmda=0.1\n",
    "mue=0.0001\n",
    "start_time = time.time()\n",
    "for line1 in lines:\n",
    "\n",
    "    for title in line1.split('\\t')[0].split(','):\n",
    "        i=inv_map[text_processing(title).lower().rstrip()]\n",
    "        phi=np.dot(W[:,i],embedding[l_c])\n",
    "        p=sigmoid(phi)\n",
    "        for k in range(50):\n",
    "            if k==i:\n",
    "                cost[k]=cost[k]-np.log(p)+0.5*lmda*(norm(W[k,:]))\n",
    "                update[:,k]=update[:,k]+mue*(1-np.log(p))*embedding[l_c]\n",
    "            else:\n",
    "                cost[k]=cost[k]-np.log(1-p)+0.5*lmda*(norm(W[k,:]))\n",
    "                update[:,k]=update[:,k]+mue*(-np.log(p))*embedding[l_c]\n",
    "            \n",
    "    l_c+=1\n",
    "print(\"--- %s seconds ---\" % (time.time() - start_time))\n",
    "update=update/total_ex\n",
    "for col in range(50):\n",
    "    W[col,:]=W[col,:]*(1-mue*lmda)-mue*np.transpose(update)[:,col]\n",
    "    Loss[0,col]=cost[col]"
   ]
  },
  {
   "cell_type": "code",
   "execution_count": null,
   "metadata": {},
   "outputs": [],
   "source": [
    "Loss=np.zeros((20,50))\n",
    "for col in range(50):\n",
    "    W[col,:]=W[col,:]*(1-mue*lmda)-mue*np.transpose(update)[:,col]\n",
    "    #print(int(cost[col]))\n",
    "    Loss[0, col]=int(cost[col])\n"
   ]
  },
  {
   "cell_type": "code",
   "execution_count": null,
   "metadata": {},
   "outputs": [],
   "source": [
    "cost=np.zeros((50,1))\n",
    "update=np.zeros((100,50))\n",
    "phi=0\n",
    "p=0\n",
    "i=0\n",
    "l_c=0\n",
    "start_time = time.time()\n",
    "for line1 in lines:\n",
    "\n",
    "    for title in line1.split('\\t')[0].split(','):\n",
    "        i=inv_map[text_processing(title).lower().rstrip()]\n",
    "        phi=np.dot(W[:,i],embedding[l_c])\n",
    "        p=sigmoid(phi)\n",
    "        for k in range(50):\n",
    "            if k==i:\n",
    "                cost[k]=cost[k]-np.log(p)+0.5*lmda*(norm(W[k,:]))\n",
    "                update[:,k]=update[:,k]+mue*(1-np.log(p))*embedding[l_c]\n",
    "            else:\n",
    "                cost[k]=cost[k]-np.log(1-p)+0.5*lmda*(norm(W[k,:]))\n",
    "                update[:,k]=update[:,k]+mue*(-np.log(p))*embedding[l_c]\n",
    "            \n",
    "    l_c+=1\n",
    "print(\"--- %s seconds ---\" % (time.time() - start_time))\n",
    "update=update/total_ex"
   ]
  },
  {
   "cell_type": "code",
   "execution_count": null,
   "metadata": {},
   "outputs": [],
   "source": [
    "for col in range(50):\n",
    "    W[col,:]=W[col,:]*(1-mue*lmda)-mue*np.transpose(update)[:,col]\n",
    "    Loss[1,col]=cost[col]"
   ]
  },
  {
   "cell_type": "code",
   "execution_count": null,
   "metadata": {},
   "outputs": [],
   "source": [
    "print(Loss[0,:]-Loss[1,:])"
   ]
  },
  {
   "cell_type": "code",
   "execution_count": null,
   "metadata": {},
   "outputs": [],
   "source": [
    "cost=np.zeros((50,1))\n",
    "update=np.zeros((100,50))\n",
    "phi=0\n",
    "p=0\n",
    "i=0\n",
    "l_c=0\n",
    "start_time = time.time()\n",
    "from progressbar import ProgressBar\n",
    "pbar9 = ProgressBar()\n",
    "for line1 in pbar9(lines):\n",
    "\n",
    "    for title in line1.split('\\t')[0].split(','):\n",
    "        i=inv_map[text_processing(title).lower().rstrip()]\n",
    "        phi=np.dot(W[:,i],embedding[l_c])\n",
    "        p=sigmoid(phi)\n",
    "        for k in range(50):\n",
    "            if k==i:\n",
    "                cost[k]=cost[k]-np.log(p)+0.5*lmda*(norm(W[k,:]))\n",
    "                update[:,k]=update[:,k]+mue*(1-np.log(p))*embedding[l_c]\n",
    "            else:\n",
    "                cost[k]=cost[k]-np.log(1-p)+0.5*lmda*(norm(W[k,:]))\n",
    "                update[:,k]=update[:,k]+mue*(-np.log(p))*embedding[l_c]\n",
    "            \n",
    "    l_c+=1\n",
    "print(\"--- %s seconds ---\" % (time.time() - start_time))\n",
    "update=update/total_ex"
   ]
  },
  {
   "cell_type": "code",
   "execution_count": null,
   "metadata": {},
   "outputs": [],
   "source": [
    "for col in range(50):\n",
    "    W[col,:]=W[col,:]*(1-mue*lmda)-mue*np.transpose(update)[:,col]\n",
    "    Loss[2,col]=cost[col]"
   ]
  },
  {
   "cell_type": "code",
   "execution_count": null,
   "metadata": {},
   "outputs": [],
   "source": [
    "print(Loss[1,:]-Loss[2,:])"
   ]
  },
  {
   "cell_type": "code",
   "execution_count": null,
   "metadata": {},
   "outputs": [],
   "source": [
    "cost=np.zeros((50,1))\n",
    "update=np.zeros((100,50))\n",
    "phi=0\n",
    "p=0\n",
    "i=0\n",
    "l_c=0\n",
    "start_time = time.time()\n",
    "for line1 in lines:\n",
    "\n",
    "    for title in line1.split('\\t')[0].split(','):\n",
    "        i=inv_map[text_processing(title).lower().rstrip()]\n",
    "        phi=np.dot(W[:,i],embedding[l_c])\n",
    "        p=sigmoid(phi)\n",
    "        for k in range(50):\n",
    "            if k==i:\n",
    "                cost[k]=cost[k]-np.log(p)+0.5*lmda*(norm(W[k,:]))\n",
    "                update[:,k]=update[:,k]+mue*(1-np.log(p))*embedding[l_c]\n",
    "            else:\n",
    "                cost[k]=cost[k]-np.log(1-p)+0.5*lmda*(norm(W[k,:]))\n",
    "                update[:,k]=update[:,k]+mue*(-np.log(p))*embedding[l_c]\n",
    "            \n",
    "    l_c+=1\n",
    "print(\"--- %s seconds ---\" % (time.time() - start_time))\n",
    "update=update/total_ex"
   ]
  },
  {
   "cell_type": "code",
   "execution_count": null,
   "metadata": {},
   "outputs": [],
   "source": [
    "for col in range(50):\n",
    "    W[col,:]=W[col,:]*(1-mue*lmda)-mue*np.transpose(update)[:,col]\n",
    "    Loss[3,col]=cost[col]"
   ]
  },
  {
   "cell_type": "code",
   "execution_count": null,
   "metadata": {},
   "outputs": [],
   "source": [
    "print(Loss[2,:]-Loss[3,:])"
   ]
  },
  {
   "cell_type": "code",
   "execution_count": 11,
   "metadata": {},
   "outputs": [],
   "source": [
    "W=np.random.uniform(low=-0.1, high=0.1, size=(50,100))"
   ]
  },
  {
   "cell_type": "code",
   "execution_count": null,
   "metadata": {},
   "outputs": [
    {
     "name": "stderr",
     "output_type": "stream",
     "text": [
      "  5% |###                                                                     |\r"
     ]
    },
    {
     "name": "stdout",
     "output_type": "stream",
     "text": [
      "--- 653.5938622951508 seconds ---\n"
     ]
    },
    {
     "name": "stderr",
     "output_type": "stream",
     "text": [
      " 10% |#######                                                                 |\r"
     ]
    },
    {
     "name": "stdout",
     "output_type": "stream",
     "text": [
      "--- 627.0770602226257 seconds ---\n"
     ]
    },
    {
     "name": "stderr",
     "output_type": "stream",
     "text": [
      " 15% |##########                                                              |\r"
     ]
    },
    {
     "name": "stdout",
     "output_type": "stream",
     "text": [
      "--- 618.0890493392944 seconds ---\n"
     ]
    },
    {
     "name": "stderr",
     "output_type": "stream",
     "text": [
      " 20% |##############                                                          |\r"
     ]
    },
    {
     "name": "stdout",
     "output_type": "stream",
     "text": [
      "--- 616.6065905094147 seconds ---\n"
     ]
    },
    {
     "name": "stderr",
     "output_type": "stream",
     "text": [
      " 25% |##################                                                      |\r"
     ]
    },
    {
     "name": "stdout",
     "output_type": "stream",
     "text": [
      "--- 7465.775438308716 seconds ---\n"
     ]
    },
    {
     "name": "stderr",
     "output_type": "stream",
     "text": [
      " 30% |#####################                                                   |\r"
     ]
    },
    {
     "name": "stdout",
     "output_type": "stream",
     "text": [
      "--- 666.6990025043488 seconds ---\n"
     ]
    },
    {
     "name": "stderr",
     "output_type": "stream",
     "text": [
      " 35% |#########################                                               |\r"
     ]
    },
    {
     "name": "stdout",
     "output_type": "stream",
     "text": [
      "--- 645.5036160945892 seconds ---\n"
     ]
    },
    {
     "name": "stderr",
     "output_type": "stream",
     "text": [
      " 40% |############################                                            |\r"
     ]
    },
    {
     "name": "stdout",
     "output_type": "stream",
     "text": [
      "--- 771.8575282096863 seconds ---\n"
     ]
    },
    {
     "name": "stderr",
     "output_type": "stream",
     "text": [
      " 45% |################################                                        |\r"
     ]
    },
    {
     "name": "stdout",
     "output_type": "stream",
     "text": [
      "--- 1053.3352346420288 seconds ---\n"
     ]
    }
   ],
   "source": [
    "num_epoch=20\n",
    "Loss=np.zeros((num_epoch,50))\n",
    "from progressbar import ProgressBar\n",
    "pbar8 = ProgressBar()\n",
    "mue=0.1\n",
    "lmda=0.1\n",
    "emb=np.zeros((100,1))\n",
    "\n",
    "for epoch in pbar8(range(num_epoch)):\n",
    "    cost=np.zeros((50,1))\n",
    "    update=np.zeros((100,50))\n",
    "    phi=0\n",
    "    p=0\n",
    "    i=0\n",
    "    l_c=0\n",
    "    start_time = time.time()\n",
    "    for line1 in lines:\n",
    "\n",
    "        for title in line1.split('\\t')[0].split(','):\n",
    "            i=inv_map[text_processing(title).lower().rstrip()]\n",
    "            emb=model.infer_vector(text_processing(line1.split('\\t')[1]).lower())\n",
    "            phi=np.dot(W[i,:],emb)\n",
    "            p=sigmoid(phi)\n",
    "            \n",
    "            for k in range(50):\n",
    "                if k==i:\n",
    "                    cost[k]=cost[k]-np.log(p)+0.5*lmda*(norm(W[k,:]))\n",
    "                    update[:,k]=update[:,k]+mue*(1-np.log(p))*emb\n",
    "                else:\n",
    "                    cost[k]=cost[k]-np.log(1-p)+0.5*lmda*(norm(W[k,:]))\n",
    "                    update[:,k]=update[:,k]+mue*(-np.log(p))*emb\n",
    "        l_c+=1\n",
    "    print(\"--- %s seconds ---\" % (time.time() - start_time))\n",
    "    update=update/total_ex\n",
    "    for col in range(50):\n",
    "        W[col,:]=W[col,:]*(1-mue*lmda)-mue*np.transpose(update)[col,:]\n",
    "        Loss[epoch,col]=cost[col]"
   ]
  },
  {
   "cell_type": "code",
   "execution_count": 15,
   "metadata": {},
   "outputs": [
    {
     "name": "stdout",
     "output_type": "stream",
     "text": [
      "[214935.91479838 214959.61663274 215154.31905202 215318.11643672\n",
      " 214349.51234572 214879.25756229 215199.58113735 215059.05944405\n",
      " 215170.91998618 214856.64383586 216035.08087073 215054.50245328\n",
      " 215157.89764552 215040.39022819 215172.54419016 214751.64734668\n",
      " 214669.7574524  215432.27118529 215107.51657005 215376.63438201\n",
      " 215155.56085629 215222.50641959 214506.55305305 215122.44738755\n",
      " 215519.99685514 214586.66184214 214860.53863018 215167.68055999\n",
      " 215217.50990352 215126.89809125 215289.38897832 214258.15629212\n",
      " 215597.52424561 214180.47882895 215314.19211062 214923.47842892\n",
      " 215371.15321931 215573.62404001 215226.65706996 215002.78346899\n",
      " 214700.63534272 214843.49791162 215134.84853337 214603.46396585\n",
      " 214934.93144475 215272.40890504 215150.71175316 214399.42008994\n",
      " 214603.695829   215416.52477528]\n"
     ]
    },
    {
     "data": {
      "image/png": "[encoded data removed]",
      "text/plain": [
       "<matplotlib.figure.Figure at 0x7f5098825ba8>"
      ]
     },
     "metadata": {},
     "output_type": "display_data"
    }
   ],
   "source": [
    "print(Loss[3,:])\n",
    "import matplotlib.pyplot as plt\n",
    "plt.plot(Loss[:,3])\n",
    "plt.ylabel('some numbers')\n",
    "plt.show()"
   ]
  },
  {
   "cell_type": "code",
   "execution_count": null,
   "metadata": {},
   "outputs": [],
   "source": [
    "f=open('/home/kapil/Documents/IISc_sem/Machine_Learning_Large_Datasets/Assignment2/DBPedia.full/full_test.txt','r')\n",
    "lines=f.readlines()\n",
    "n1=0\n",
    "correct=0\n",
    "Y1=np.zeros((total_ex,50))\n",
    "l=0\n",
    "for line in lines:\n",
    "    try:        \n",
    "        line=text_processing(line).lower()\n",
    "        for i in range(50):\n",
    "            Y1[n1,:]=sigmoid(np.dot(W[i,:],embedding[l]))\n",
    "        if b[list(Y1[n1,:]).index(max(list(Y1[n1,:])))] in line.split('\\t')[0].split(','):\n",
    "            correct+=1\n",
    "        n1+=1\n",
    "        l+=1   \n",
    "    except ZeroDivisionError:\n",
    "        continue"
   ]
  },
  {
   "cell_type": "code",
   "execution_count": null,
   "metadata": {},
   "outputs": [],
   "source": [
    "print(correct/l)"
   ]
  }
 ],
 "metadata": {
  "kernelspec": {
   "display_name": "Python 3",
   "language": "python",
   "name": "python3"
  },
  "language_info": {
   "codemirror_mode": {
    "name": "ipython",
    "version": 3
   },
   "file_extension": ".py",
   "mimetype": "text/x-python",
   "name": "python",
   "nbconvert_exporter": "python",
   "pygments_lexer": "ipython3",
   "version": "3.6.4"
  }
 },
 "nbformat": 4,
 "nbformat_minor": 2
}
